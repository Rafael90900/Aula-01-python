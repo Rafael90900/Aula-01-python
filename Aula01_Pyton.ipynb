{
  "nbformat": 4,
  "nbformat_minor": 0,
  "metadata": {
    "colab": {
      "provenance": [],
      "authorship_tag": "ABX9TyNWHT5V09REN3A3hZm4HK4W",
      "include_colab_link": true
    },
    "kernelspec": {
      "name": "python3",
      "display_name": "Python 3"
    },
    "language_info": {
      "name": "python"
    }
  },
  "cells": [
    {
      "cell_type": "markdown",
      "metadata": {
        "id": "view-in-github",
        "colab_type": "text"
      },
      "source": [
        "<a href=\"https://colab.research.google.com/github/Rafael90900/Aula-01-python/blob/main/Aula01_Pyton.ipynb\" target=\"_parent\"><img src=\"https://colab.research.google.com/assets/colab-badge.svg\" alt=\"Open In Colab\"/></a>"
      ]
    },
    {
      "cell_type": "code",
      "execution_count": null,
      "metadata": {
        "colab": {
          "base_uri": "https://localhost:8080/"
        },
        "id": "ODaYYS77xJJV",
        "outputId": "03ee1d2b-ec68-44a9-dd0e-3315c14f7dfb"
      },
      "outputs": [
        {
          "output_type": "stream",
          "name": "stdout",
          "text": [
            "Rafael Reis\n"
          ]
        }
      ],
      "source": [
        "#variaveis\n",
        "nome = \"Rafael Reis\"\n",
        "print(nome)\n",
        "\n"
      ]
    },
    {
      "cell_type": "markdown",
      "source": [],
      "metadata": {
        "id": "HMeDthNvynBS"
      }
    },
    {
      "cell_type": "code",
      "source": [],
      "metadata": {
        "id": "T_YJFhBUzJ0T"
      },
      "execution_count": null,
      "outputs": []
    },
    {
      "cell_type": "code",
      "source": [
        "#mat com variaveis\n",
        "a = 1\n",
        "b = 2\n",
        "c = 5\n",
        "soma = a + b + c\n",
        "subtracao = a - b - c\n",
        "multiplicacao = a * b * c\n",
        "divisao = a / b / c\n",
        "\n",
        "print (a + b - 2)\n",
        "print (soma)\n",
        "print (subtracao)\n",
        "print (multiplicacao)\n",
        "print (divisao)"
      ],
      "metadata": {
        "colab": {
          "base_uri": "https://localhost:8080/"
        },
        "id": "_OojWmyMynpB",
        "outputId": "439c5256-6540-4d94-d1f2-1a2d003e0a73"
      },
      "execution_count": null,
      "outputs": [
        {
          "output_type": "stream",
          "name": "stdout",
          "text": [
            "1\n",
            "8\n",
            "-6\n",
            "10\n",
            "0.1\n"
          ]
        }
      ]
    },
    {
      "cell_type": "code",
      "source": [
        "from logging import disable\n",
        "#1. Pega o número de uma variável, e devolve o dobro\n",
        "a = 2\n",
        "dobro = a * 2\n",
        "print (dobro)\n"
      ],
      "metadata": {
        "colab": {
          "base_uri": "https://localhost:8080/"
        },
        "id": "GnosCSLh0itf",
        "outputId": "b8483bef-8681-4624-dda3-1e951652d7af"
      },
      "execution_count": null,
      "outputs": [
        {
          "output_type": "stream",
          "name": "stdout",
          "text": [
            "4\n"
          ]
        }
      ]
    },
    {
      "cell_type": "code",
      "source": [
        "#2 ler 3 notas e devolve a média aritmetica\n",
        "\n",
        "nota1 = 7\n",
        "nota2 = 7\n",
        "nota3 = 7\n",
        "media = (nota1 + nota2 + nota3) / 3\n",
        "print(media)"
      ],
      "metadata": {
        "colab": {
          "base_uri": "https://localhost:8080/"
        },
        "id": "aZU9Pkam2L2Q",
        "outputId": "77a0635c-7dcd-4177-a409-3b42f79b900f"
      },
      "execution_count": null,
      "outputs": [
        {
          "output_type": "stream",
          "name": "stdout",
          "text": [
            "7.0\n"
          ]
        }
      ]
    },
    {
      "cell_type": "code",
      "source": [
        "#3 pede o ano de nascimento da pessoa e calcula ela\n",
        "nascimento =2005\n",
        "ano_atual = 2023\n",
        "idade = nascimento - ano_atual\n",
        "print(idade)"
      ],
      "metadata": {
        "colab": {
          "base_uri": "https://localhost:8080/"
        },
        "id": "PsCi9O4521PQ",
        "outputId": "66000fc6-6c86-4aed-e4d7-41214dfa08a6"
      },
      "execution_count": null,
      "outputs": [
        {
          "output_type": "stream",
          "name": "stdout",
          "text": [
            "-18\n"
          ]
        }
      ]
    },
    {
      "cell_type": "code",
      "source": [
        "#Pede um número e multiplica por 3\n",
        "#PARSE\n",
        "num = int(input('Digita aí, otaro!'))\n",
        "print(num*3)"
      ],
      "metadata": {
        "id": "gL5R468c6T0O",
        "colab": {
          "base_uri": "https://localhost:8080/"
        },
        "outputId": "da90c4bd-ff77-4815-f6f1-656e2cdc98de"
      },
      "execution_count": 3,
      "outputs": [
        {
          "output_type": "stream",
          "name": "stdout",
          "text": [
            "Digita aí, otaro!4\n",
            "12\n"
          ]
        }
      ]
    }
  ]
}